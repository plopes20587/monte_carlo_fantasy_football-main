{
 "cells": [
  {
   "cell_type": "code",
   "execution_count": 20,
   "id": "7d37e11b",
   "metadata": {},
   "outputs": [],
   "source": [
    "from datetime import datetime\n",
    "import requests\n",
    "\n",
    "import numpy as np\n",
    "import pandas as pd\n",
    "import psycopg2\n",
    "from psycopg2.extras import execute_values\n",
    "import pytz"
   ]
  },
  {
   "cell_type": "code",
   "execution_count": 21,
   "id": "0237ba94",
   "metadata": {},
   "outputs": [],
   "source": [
    "API_KEY = 'e7691e18319061053a2b7fffac631f54'\n",
    "SPORT = 'americanfootball_nfl'\n",
    "REGIONS = 'us'\n",
    "\n",
    "ODDS_FORMAT = 'american'\n",
    "DATE_FORMAT = 'iso'\n",
    "BET_QUANTITATIVE_CATEGORIES = ['over_under','price','Bookmaker']"
   ]
  },
  {
   "cell_type": "code",
   "execution_count": 22,
   "id": "a0e9f570",
   "metadata": {},
   "outputs": [],
   "source": [
    "def pull_from_api(event_id = ''):\n",
    "    if event_id:\n",
    "        url = f'https://api.the-odds-api.com/v4/sports/{SPORT}/events/{event_id}/odds'\n",
    "        markets='player_pass_tds,player_pass_tds_alternate,player_pass_yds,player_pass_yds_alternate,player_pass_interceptions,player_rush_yds,player_rush_yds_alternate,player_reception_yds,player_reception_yds_alternate,player_receptions,player_receptions_alternate,player_anytime_td,player_tds_over'\n",
    "    else:\n",
    "        url = f'https://api.the-odds-api.com/v4/sports/{SPORT}/odds'\n",
    "        markets='h2h,spreads,totals'\n",
    "\n",
    "    response = requests.get(\n",
    "        url,\n",
    "        params={\n",
    "            'api_key': API_KEY,\n",
    "            'regions': REGIONS,\n",
    "            'markets': markets,\n",
    "            'oddsFormat': ODDS_FORMAT,\n",
    "            'dateFormat': DATE_FORMAT,\n",
    "        }\n",
    "    )\n",
    "    if response.status_code != 200:\n",
    "        print(f'Failed to get sports: status_code {response.status_code}, response body {response.text}')\n",
    "    return response.json()"
   ]
  },
  {
   "cell_type": "code",
   "execution_count": 23,
   "id": "7a983a36",
   "metadata": {},
   "outputs": [],
   "source": [
    "def create_df_single_game(single_game_stats_dict):\n",
    "    df_single_game_merged = None\n",
    "    bookmakers = single_game_stats_dict['bookmakers']\n",
    "    for bookmaker_dict in bookmakers:\n",
    "        bookmaker = bookmaker_dict['key']\n",
    "        df_single_game = pd.DataFrame(bookmaker_dict['markets'])\n",
    "        df_single_game.rename({'key':'bet_category'},axis=1,inplace=True)\n",
    "        df_single_game['game_time'] = single_game_stats_dict['commence_time']\n",
    "        df_single_game['home_team'] = single_game_stats_dict['home_team']\n",
    "        df_single_game['away_team'] = single_game_stats_dict['away_team']\n",
    "\n",
    "        for index,_ in df_single_game.iterrows():\n",
    "            bet_category = df_single_game.loc[index,'bet_category']\n",
    "            bets = df_single_game['outcomes'][index]\n",
    "            df_single_bet_category = pd.DataFrame(bets)\n",
    "            df_single_bet_category['bet_category'] = bet_category\n",
    "            df_single_bet_category['Bookmaker'] = bookmaker\n",
    "            df_single_bet_category_merged = pd.merge(df_single_game,df_single_bet_category,on='bet_category')\n",
    "\n",
    "            if df_single_game_merged is None:\n",
    "                df_single_game_merged = df_single_bet_category_merged\n",
    "            else:\n",
    "                df_single_game_merged = pd.concat([df_single_game_merged,df_single_bet_category_merged],axis=0)\n",
    "    df_single_game_merged.drop('outcomes',inplace=True,axis=1)\n",
    "    df_single_game_merged.rename({'description':'player','name':'over_under'},axis=1,inplace=True)\n",
    "    return df_single_game_merged"
   ]
  },
  {
   "cell_type": "code",
   "execution_count": 24,
   "id": "ad5c8122",
   "metadata": {},
   "outputs": [],
   "source": [
    "def create_descriptors_tuple(row):\n",
    "    bet_category = row['bet_category']\n",
    "    game_time = row['game_time']\n",
    "    home_team = row['home_team']\n",
    "    away_team = row['away_team']\n",
    "    player = row['player']\n",
    "    pts = row['point']\n",
    "    return (game_time,home_team,away_team,bet_category,player,pts)\n",
    "\n",
    "def create_odds_dict(df_single_game):\n",
    "    odds_dict = {}\n",
    "    for _,row in df_single_game.iterrows():\n",
    "        descriptors = create_descriptors_tuple(row)\n",
    "\n",
    "        single_bet_dict = {}\n",
    "        for cat in BET_QUANTITATIVE_CATEGORIES:\n",
    "            single_bet_dict[cat] = row[cat]\n",
    "\n",
    "        if (current_odds := odds_dict.get(descriptors)):\n",
    "            current_odds.append(single_bet_dict)\n",
    "        else:\n",
    "            current_odds = [single_bet_dict]\n",
    "        odds_dict[descriptors] = current_odds\n",
    "    return odds_dict"
   ]
  },
  {
   "cell_type": "code",
   "execution_count": 25,
   "id": "6987cc6b",
   "metadata": {},
   "outputs": [],
   "source": [
    "def convert_american_odds_pct(odd):\n",
    "    if odd < 0:\n",
    "        return 1 - (100/(abs(odd) + 100))\n",
    "    elif odd > 0:\n",
    "        return 1 - (odd / (odd + 100))\n",
    "    else:\n",
    "        return 0"
   ]
  },
  {
   "cell_type": "code",
   "execution_count": 26,
   "id": "fe9eaa37",
   "metadata": {},
   "outputs": [],
   "source": [
    "def calculate_under_pct(odds_under,odds_over):\n",
    "    over_pct = convert_american_odds_pct(odds_over)\n",
    "    under_pct = convert_american_odds_pct(odds_under)\n",
    "    bookmaker_take = 0.06\n",
    "    \n",
    "    if not (over_pct or under_pct):\n",
    "        return 0,0\n",
    "\n",
    "    if over_pct and under_pct:\n",
    "        bookmaker_take = over_pct + under_pct - 1\n",
    "        return_pct =  under_pct - (bookmaker_take/2)\n",
    "    elif over_pct:\n",
    "        return_pct = 1 - over_pct - bookmaker_take/2\n",
    "    else:\n",
    "        return_pct = under_pct - bookmaker_take/2\n",
    "        \n",
    "    return return_pct, bookmaker_take/2"
   ]
  },
  {
   "cell_type": "code",
   "execution_count": 27,
   "id": "2d1a8be1",
   "metadata": {},
   "outputs": [],
   "source": [
    "def consolidate_odds(df_single_game,odds_dict):\n",
    "    df_single_game['odds'] = ''\n",
    "    for index,row in df_single_game.iterrows():\n",
    "        descriptors = create_descriptors_tuple(row)\n",
    "        odds = odds_dict.get(descriptors)\n",
    "        df_single_game.at[index,'odds'] = odds\n",
    "    return df_single_game"
   ]
  },
  {
   "cell_type": "code",
   "execution_count": 28,
   "id": "7ad56e2a",
   "metadata": {},
   "outputs": [],
   "source": [
    "def check_schedule_archive(commence_time_str):\n",
    "    commence_time_dt = datetime.fromisoformat(commence_time_str.replace('Z', '+00:00'))\n",
    "    now_utc = datetime.now(tz=pytz.UTC)\n",
    "    return commence_time_dt < now_utc"
   ]
  },
  {
   "cell_type": "code",
   "execution_count": 29,
   "id": "ab04a53c",
   "metadata": {},
   "outputs": [],
   "source": [
    "def find_best_odds(over_under,single_row_odds):\n",
    "    if over_under not in ['Over','Under']:\n",
    "        raise ValueError(f'over_under must be set to Over or Under. It is {over_under}')\n",
    "        \n",
    "    if not (viable_odds := [odd for odd in single_row_odds if odd['over_under'] == over_under]):\n",
    "        return 0, None\n",
    "    \n",
    "    best_odds=max(odd['price'] for odd in viable_odds)\n",
    "    bookmaker = [odd for odd in viable_odds if odd['price'] == best_odds][0]['Bookmaker']\n",
    "    return best_odds,bookmaker"
   ]
  },
  {
   "cell_type": "code",
   "execution_count": 30,
   "id": "734d0549",
   "metadata": {},
   "outputs": [],
   "source": [
    "def add_odds_columns(df_single_game):\n",
    "    odds_dict = create_odds_dict(df_single_game)\n",
    "    df_single_game.drop_duplicates(subset=['bet_category','player','game_time','home_team','away_team','point'],inplace=True,ignore_index=True)\n",
    "    df_single_game.drop(BET_QUANTITATIVE_CATEGORIES,axis=1,inplace=True,errors='ignore')\n",
    "    df_single_game = consolidate_odds(df_single_game,odds_dict)\n",
    "    df_single_game.to_clipboard(sep='\\t')\n",
    "\n",
    "    for index,row in df_single_game.iterrows():\n",
    "        single_row_odds = row['odds']\n",
    "        best_over_price, best_over_bookmaker =  find_best_odds('Over',single_row_odds)\n",
    "        df_single_game.at[index,'best_over_price'] = best_over_price\n",
    "        df_single_game.at[index,'best_over_bookmaker'] = best_over_bookmaker\n",
    "\n",
    "        best_under_price, best_under_bookmaker =  find_best_odds('Under',single_row_odds)\n",
    "        df_single_game.at[index,'best_under_price'] = best_under_price\n",
    "        df_single_game.at[index,'best_under_bookmaker'] = best_under_bookmaker\n",
    "\n",
    "        pct_under, pct_bookmaker = calculate_under_pct(best_under_price,best_over_price)\n",
    "        df_single_game.at[index,'pct_under'] = pct_under\n",
    "        df_single_game.at[index,'bookmaker_pct'] = pct_bookmaker\n",
    "    return df_single_game"
   ]
  },
  {
   "cell_type": "code",
   "execution_count": 31,
   "id": "dd31efe2",
   "metadata": {},
   "outputs": [],
   "source": [
    "def remove_dupe_teams(df_schedule):\n",
    "    teams = set(df_schedule['home_team'])\n",
    "    teams.update(set(df_schedule['away_team']))\n",
    "\n",
    "    for index,row in df_schedule.iterrows():\n",
    "        home = row['home_team']\n",
    "        away = row['away_team']\n",
    "        row_teams = [home,away]\n",
    "        if not any(team in teams for team in row_teams):\n",
    "            df_schedule.drop(index,inplace=True)\n",
    "            continue\n",
    "        for team in row_teams:\n",
    "            if team in teams:\n",
    "                teams.remove(team)\n",
    "                \n",
    "    df_schedule.reset_index(drop=True,inplace=True)\n",
    "    return df_schedule"
   ]
  },
  {
   "cell_type": "code",
   "execution_count": 32,
   "id": "0d0dc70c",
   "metadata": {},
   "outputs": [],
   "source": [
    "def create_df_schedule():\n",
    "    schedule_dict = pull_from_api()\n",
    "    df_schedule = pd.DataFrame(schedule_dict)\n",
    "    df_schedule['game_started'] = df_schedule.apply(lambda x:check_schedule_archive(x['commence_time']),axis=1)\n",
    "    df_schedule = remove_dupe_teams(df_schedule)\n",
    "    return df_schedule"
   ]
  },
  {
   "cell_type": "code",
   "execution_count": 33,
   "id": "95fd6d53",
   "metadata": {},
   "outputs": [],
   "source": [
    "def no_stats_warning(df_schedule,game_id):\n",
    "    id_mask = df_schedule['id'] == game_id\n",
    "    missing_id = df_schedule.loc[id_mask,'id'].values[0]\n",
    "    missing_time = df_schedule.loc[id_mask,'commence_time'].values[0]\n",
    "    missing_hometeam = df_schedule.loc[id_mask,'home_team'].values[0]\n",
    "    missing_awayteam = df_schedule.loc[id_mask,'away_team'].values[0]\n",
    "    print(f'WARNING: {missing_hometeam} vs {missing_awayteam} ({missing_time}) has no odds. game_id = {missing_id}')"
   ]
  },
  {
   "cell_type": "code",
   "execution_count": 34,
   "id": "15fcc2f5",
   "metadata": {},
   "outputs": [],
   "source": [
    "def normalize_bets(df_single_game):\n",
    "    df_single_game['over_under'] = df_single_game['over_under'].apply(lambda x:x.replace('Yes','Over').replace('No','Under'))\n",
    "    df_single_game['bet_category'] = df_single_game['bet_category'].apply(lambda x:x.replace('_alternate',''))\n",
    "    \n",
    "    single_td_mask = df_single_game['bet_category'] == 'player_anytime_td'\n",
    "    df_single_game.loc[single_td_mask,'point'] = 0.5\n",
    "    df_single_game['bet_category'] = df_single_game['bet_category'].apply(lambda x:x.replace('player_tds_over','player_rush_or_rec_tds').replace('player_anytime_td','player_rush_or_rec_tds'))\n",
    "    return df_single_game"
   ]
  },
  {
   "cell_type": "code",
   "execution_count": 35,
   "id": "858219b3",
   "metadata": {},
   "outputs": [],
   "source": [
    "def create_df_games(df_schedule,test_mode=False):\n",
    "    past_game_mask = df_schedule['game_started']\n",
    "    game_ids_list = list(df_schedule.loc[~past_game_mask,'id'])\n",
    "    if test_mode:\n",
    "        game_ids_list = [game_ids_list[0]]\n",
    "    \n",
    "    df_games = None\n",
    "    for game_id in game_ids_list:\n",
    "        single_game_stats_dict = pull_from_api(event_id=game_id)\n",
    "        if single_game_stats_dict.get('bookmakers'):\n",
    "            df_single_game = create_df_single_game(single_game_stats_dict)\n",
    "        else:\n",
    "            no_stats_warning(df_schedule,game_id)\n",
    "            continue\n",
    "\n",
    "        df_single_game = normalize_bets(df_single_game)\n",
    "        df_single_game = add_odds_columns(df_single_game)\n",
    "\n",
    "        if df_games is None:\n",
    "            df_games = df_single_game\n",
    "        else:\n",
    "            df_games = pd.concat([df_games,df_single_game],ignore_index=True)\n",
    "            \n",
    "    df_games.sort_values(['player','bet_category','point'],ignore_index=True,inplace=True)\n",
    "    return df_games"
   ]
  },
  {
   "cell_type": "code",
   "execution_count": 36,
   "id": "7f1783ee",
   "metadata": {},
   "outputs": [],
   "source": [
    "def create_connection():\n",
    "    connection = psycopg2.connect(\n",
    "    host=\"aws-0-us-west-1.pooler.supabase.com\",\n",
    "    database=\"postgres\",\n",
    "    user=\"postgres.bazfvnkvwteendgaxumt\",\n",
    "    password='?ya21[Uta=T9!w]+e]4t',\n",
    "    port=6543\n",
    "    )\n",
    "    return connection\n",
    "\n",
    "def export_data_supabase(df_export,supa_table):\n",
    "    df_export = df_export.replace({np.nan: None})  # supabase doesn't accept NaN\n",
    "    for col in df_export.columns:\n",
    "        sample_val = df_export[col][0]\n",
    "        if isinstance(sample_val,list):\n",
    "            df_export[col] = df_export.apply(lambda x:str(x[col]).replace(\"'\",'\"'),axis=1)\n",
    "    \n",
    "    values = [tuple(x) for x in df_export.to_numpy()]\n",
    "    insert_statement = f\"INSERT INTO {supa_table} ({', '.join(df_export.columns)}) VALUES %s\"\n",
    "\n",
    "    try:\n",
    "        connection = create_connection()\n",
    "        cursor = connection.cursor()\n",
    "        cursor.execute(f'DELETE FROM {supa_table};')\n",
    "        connection.commit()\n",
    "\n",
    "        print(f\"{supa_table} deleted successfully.\")\n",
    "\n",
    "        psycopg2.extras.execute_values(cursor, insert_statement, values)\n",
    "        connection.commit()\n",
    "\n",
    "        print(f\"Data inserted {len(values)} rows into {supa_table} successfully.\")\n",
    "\n",
    "    except Exception as error:\n",
    "        print(f\"Error while inserting data: {error}. Commits rolled back.\")\n",
    "        connection.rollback()\n",
    "\n",
    "    finally:\n",
    "        # Close the cursor and connection\n",
    "        cursor.close()\n",
    "        connection.close()"
   ]
  },
  {
   "cell_type": "code",
   "execution_count": 37,
   "id": "5077708d",
   "metadata": {},
   "outputs": [
    {
     "name": "stdout",
     "output_type": "stream",
     "text": [
      "WARNING: Philadelphia Eagles vs Cleveland Browns (2024-10-13T17:01:00Z) has no odds. game_id = 8bd202ca7bacf3396a1b774f12de0fab\n",
      "WARNING: Tennessee Titans vs Indianapolis Colts (2024-10-13T17:01:00Z) has no odds. game_id = bdc58f80a5a9b4515ee631fddc63a2c8\n",
      "WARNING: Denver Broncos vs Los Angeles Chargers (2024-10-13T20:06:00Z) has no odds. game_id = 76fbc0191f917329bad82f76a9a22a2e\n",
      "WARNING: Dallas Cowboys vs Detroit Lions (2024-10-13T20:26:00Z) has no odds. game_id = d4d2902446e120ea6f1afafdc0b3d55d\n",
      "public.full_odds deleted successfully.\n",
      "Data inserted 2748 rows into public.full_odds successfully.\n"
     ]
    }
   ],
   "source": [
    "df_schedule = create_df_schedule()\n",
    "df_games = create_df_games(df_schedule)\n",
    "export_data_supabase(df_games,'public.full_odds')"
   ]
  }
 ],
 "metadata": {
  "kernelspec": {
   "display_name": "Python 3 (ipykernel)",
   "language": "python",
   "name": "python3"
  },
  "language_info": {
   "codemirror_mode": {
    "name": "ipython",
    "version": 3
   },
   "file_extension": ".py",
   "mimetype": "text/x-python",
   "name": "python",
   "nbconvert_exporter": "python",
   "pygments_lexer": "ipython3",
   "version": "3.9.12"
  }
 },
 "nbformat": 4,
 "nbformat_minor": 5
}
