{
 "cells": [
  {
   "cell_type": "code",
   "execution_count": null,
   "id": "5efc91ea-29c8-47bd-aea2-515e577cac87",
   "metadata": {},
   "outputs": [],
   "source": [
    "import json, pathlib\n",
    "import pandas as pd\n",
    "\n",
    "# EXAMPLE: load from your CSVs or dataframes (edit as needed)\n",
    "# df_players = pd.read_csv(\"players.csv\")  # needs columns: id,name,team,position\n",
    "# df_proj    = pd.read_csv(\"projections.csv\")  # needs: id,ppr,median,ceiling,floor\n",
    "\n",
    "# OR, if you already have df_players/df_proj in memory from prior cells, skip reads.\n",
    "\n",
    "# For a smoke test, comment the reads above and use mock data:\n",
    "df_players = pd.DataFrame([\n",
    "    {\"id\":\"patrick-mahomes\",\"name\":\"Patrick Mahomes\",\"team\":\"KC\",\"position\":\"QB\"},\n",
    "    {\"id\":\"christian-mccaffrey\",\"name\":\"Christian McCaffrey\",\"team\":\"SF\",\"position\":\"RB\"},\n",
    "])\n",
    "df_proj = pd.DataFrame([\n",
    "    {\"id\":\"patrick-mahomes\",\"ppr\":22.1,\"median\":21,\"ceiling\":35,\"floor\":12},\n",
    "    {\"id\":\"christian-mccaffrey\",\"ppr\":24.8,\"median\":23,\"ceiling\":40,\"floor\":10.5},\n",
    "])\n",
    "\n",
    "out = pathlib.Path(\"../ff_react/public\")\n",
    "out.mkdir(parents=True, exist_ok=True)\n",
    "\n",
    "players_list = df_players[[\"id\",\"name\",\"team\",\"position\"]].to_dict(orient=\"records\")\n",
    "projections_list = df_proj[[\"id\",\"ppr\",\"median\",\"ceiling\",\"floor\"]].to_dict(orient=\"records\")\n",
    "\n",
    "(out / \"players.json\").write_text(json.dumps(players_list, indent=2))\n",
    "(out / \"projections.json\").write_text(json.dumps(projections_list, indent=2))\n",
    "print(\"Wrote: ../ff_react/public/players.json\")\n",
    "print(\"Wrote: ../ff_react/public/projections.json\")\n"
   ]
  }
 ],
 "metadata": {
  "kernelspec": {
   "display_name": "Python 3 (ipykernel)",
   "language": "python",
   "name": "python3"
  },
  "language_info": {
   "codemirror_mode": {
    "name": "ipython",
    "version": 3
   },
   "file_extension": ".py",
   "mimetype": "text/x-python",
   "name": "python",
   "nbconvert_exporter": "python",
   "pygments_lexer": "ipython3",
   "version": "3.9.6"
  }
 },
 "nbformat": 4,
 "nbformat_minor": 5
}
